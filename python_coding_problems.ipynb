{
  "nbformat": 4,
  "nbformat_minor": 0,
  "metadata": {
    "colab": {
      "provenance": []
    },
    "kernelspec": {
      "name": "python3",
      "display_name": "Python 3"
    },
    "language_info": {
      "name": "python"
    }
  },
  "cells": [
    {
      "cell_type": "markdown",
      "source": [
        "Write a Python Code to Check if a Number is Odd or Even."
      ],
      "metadata": {
        "id": "ravmBbZUv4oZ"
      }
    },
    {
      "cell_type": "code",
      "source": [
        "num=int(input('Enter a number'))\n",
        "\n",
        "if (num % 2)==0:\n",
        "  print('{} is Even'.format(num))\n",
        "else:\n",
        "  print('{} is Odd'.format(num))"
      ],
      "metadata": {
        "colab": {
          "base_uri": "https://localhost:8080/"
        },
        "id": "9MHOrIwwv3yC",
        "outputId": "0eb22d63-0dea-479f-a060-c0ffe605eac2"
      },
      "execution_count": 23,
      "outputs": [
        {
          "output_type": "stream",
          "name": "stdout",
          "text": [
            "Enter a number6\n",
            "6 is Even\n"
          ]
        }
      ]
    },
    {
      "cell_type": "markdown",
      "source": [
        "Write a Python code to find the maximum of two numbers."
      ],
      "metadata": {
        "id": "SXPIiX3xyVAU"
      }
    },
    {
      "cell_type": "code",
      "source": [
        "num1=int(input('Enter the first number: '))\n",
        "num2=int(input('Enter the second number: '))\n",
        "\n",
        "if num1 > num2:\n",
        "  print(num1, 'is greater')\n",
        "elif num2 > num1:\n",
        "  print(num2, 'is greater')\n",
        "else:\n",
        "  print('Both are equal')"
      ],
      "metadata": {
        "colab": {
          "base_uri": "https://localhost:8080/"
        },
        "id": "ySsHo8_1yDwH",
        "outputId": "885ae7d1-4a72-4edf-9c5c-2d3671526b2e"
      },
      "execution_count": 24,
      "outputs": [
        {
          "output_type": "stream",
          "name": "stdout",
          "text": [
            "Enter the first number: 3\n",
            "Enter the seconf number: 4\n",
            "4 is greater\n"
          ]
        }
      ]
    },
    {
      "cell_type": "markdown",
      "source": [
        "Write a Python code to check prime numbers."
      ],
      "metadata": {
        "id": "E-tK6-xjzRXG"
      }
    },
    {
      "cell_type": "code",
      "source": [
        "n=int(input('Enter the number'))\n",
        "\n",
        "c=0\n",
        "if n>1:\n",
        "  for i in range(2,int(n/2)+1):\n",
        "    if (n % i ==0):\n",
        "      c=1\n",
        "else:\n",
        "  c=-1\n",
        "  print(n,' is not a prime number')\n",
        "\n",
        "if c==0:\n",
        "  print(n,' is prime number')"
      ],
      "metadata": {
        "colab": {
          "base_uri": "https://localhost:8080/"
        },
        "id": "koB9jTcjy70S",
        "outputId": "460f0372-d443-496f-df86-818117b6c41b"
      },
      "execution_count": 25,
      "outputs": [
        {
          "output_type": "stream",
          "name": "stdout",
          "text": [
            "Enter the number5\n",
            "5 is prime number\n"
          ]
        }
      ]
    },
    {
      "cell_type": "markdown",
      "source": [
        "Write a Python factorial program without using if-else, for, and ternary operators."
      ],
      "metadata": {
        "id": "4btiWMGd0fVH"
      }
    },
    {
      "cell_type": "code",
      "source": [
        "def factorial(n):\n",
        "  return 1 if(n==1 or n==0) else n*factorial(n-1)\n",
        "\n",
        "num=int(input('Enter the number'))\n",
        "print(factorial(num))"
      ],
      "metadata": {
        "colab": {
          "base_uri": "https://localhost:8080/"
        },
        "id": "a2OLFLjT0bvw",
        "outputId": "339439fa-226d-491b-cffb-8296324b39ba"
      },
      "execution_count": 28,
      "outputs": [
        {
          "output_type": "stream",
          "name": "stdout",
          "text": [
            "Enter the number5\n",
            "120\n"
          ]
        }
      ]
    },
    {
      "cell_type": "markdown",
      "source": [
        "Write a Python code to calculate the square root of a given number."
      ],
      "metadata": {
        "id": "lcyMwumv1oiZ"
      }
    },
    {
      "cell_type": "code",
      "source": [
        "num=int(input('Enter the number'))\n",
        "num_sqrt=num**0.5\n",
        "print(num_sqrt)"
      ],
      "metadata": {
        "colab": {
          "base_uri": "https://localhost:8080/"
        },
        "id": "QvmTXyVb1ntW",
        "outputId": "72653ada-5516-4e16-8ae0-9afdbe8d11a2"
      },
      "execution_count": 29,
      "outputs": [
        {
          "output_type": "stream",
          "name": "stdout",
          "text": [
            "Enter the number4\n",
            "2.0\n"
          ]
        }
      ]
    },
    {
      "cell_type": "markdown",
      "source": [
        "Write a Python code to calculate the area of a triangle."
      ],
      "metadata": {
        "id": "-6_BEN0D2OBq"
      }
    },
    {
      "cell_type": "code",
      "source": [
        "a=float(input('First side'))\n",
        "b=float(input('Second side'))\n",
        "c=float(input('Third side'))\n",
        "\n",
        "s=(a+b+c)\n",
        "\n",
        "area=(s*(s-a)*(s-b)*(s-c))**0.5\n",
        "\n",
        "print(area)"
      ],
      "metadata": {
        "colab": {
          "base_uri": "https://localhost:8080/"
        },
        "id": "SPL75nkR1vJY",
        "outputId": "9d416607-116e-42bb-9c1f-b02b49197814"
      },
      "execution_count": 30,
      "outputs": [
        {
          "output_type": "stream",
          "name": "stdout",
          "text": [
            "First side5\n",
            "Second side6\n",
            "Third side4\n",
            "121.8605760695394\n"
          ]
        }
      ]
    },
    {
      "cell_type": "markdown",
      "source": [
        "Write a Python code to check the armstrong number."
      ],
      "metadata": {
        "id": "LTXCMOiw3Wsr"
      }
    },
    {
      "cell_type": "code",
      "source": [
        "num=int(input('Enter the number '))\n",
        "\n",
        "sum=0\n",
        "\n",
        "temp=num\n",
        "\n",
        "while temp >0:\n",
        "  digit=temp%10\n",
        "  sum+=digit**3\n",
        "  temp//=10\n",
        "\n",
        "if num==sum:\n",
        "  print('Armstrong number')\n",
        "else:\n",
        "  print('Not an armstrong number')"
      ],
      "metadata": {
        "colab": {
          "base_uri": "https://localhost:8080/"
        },
        "id": "BodhETgq3S42",
        "outputId": "4521eb52-5bc6-4e54-f98d-5c0c4a92f1d1"
      },
      "execution_count": 32,
      "outputs": [
        {
          "output_type": "stream",
          "name": "stdout",
          "text": [
            "Enter the number151\n",
            "Not an armstrong number\n"
          ]
        }
      ]
    },
    {
      "cell_type": "markdown",
      "source": [
        "Write a Python code to display a multiplication table using for loop."
      ],
      "metadata": {
        "id": "_x99xngD4Ucn"
      }
    },
    {
      "cell_type": "code",
      "source": [
        "num=int(input('Enter the number: '))\n",
        "\n",
        "for count in range(1,11):\n",
        "  print(num,'x',count,'=',num*count)"
      ],
      "metadata": {
        "colab": {
          "base_uri": "https://localhost:8080/"
        },
        "id": "4Sb6LOY64M_x",
        "outputId": "d8c04421-2d19-4943-ef59-928e34a356fc"
      },
      "execution_count": 33,
      "outputs": [
        {
          "output_type": "stream",
          "name": "stdout",
          "text": [
            "Enter the number: 4\n",
            "4 x 1 = 4\n",
            "4 x 2 = 8\n",
            "4 x 3 = 12\n",
            "4 x 4 = 16\n",
            "4 x 5 = 20\n",
            "4 x 6 = 24\n",
            "4 x 7 = 28\n",
            "4 x 8 = 32\n",
            "4 x 9 = 36\n",
            "4 x 10 = 40\n"
          ]
        }
      ]
    },
    {
      "cell_type": "markdown",
      "source": [
        "Write a Python code to swap two variables."
      ],
      "metadata": {
        "id": "7z7FL1aj4ukA"
      }
    },
    {
      "cell_type": "code",
      "source": [
        "x = input('Enter value of x: ')\n",
        "y = input('Enter value of y: ')\n",
        "\n",
        "temp = x\n",
        "x = y\n",
        "y = temp\n",
        "\n",
        "print('The value of x after swapping: {}'.format(x))\n",
        "print('The value of y after swapping: {}'.format(y))"
      ],
      "metadata": {
        "colab": {
          "base_uri": "https://localhost:8080/"
        },
        "id": "vQG3TCd94rLT",
        "outputId": "cd0baf37-dd0d-47da-b47d-15c9399b264f"
      },
      "execution_count": 34,
      "outputs": [
        {
          "output_type": "stream",
          "name": "stdout",
          "text": [
            "Enter value of x: 4\n",
            "Enter value of y: 5\n",
            "The value of x after swapping: 5\n",
            "The value of y after swapping: 4\n"
          ]
        }
      ]
    },
    {
      "cell_type": "markdown",
      "source": [
        "What is the output of the Python add two numbers program?"
      ],
      "metadata": {
        "id": "k2_6RedI57rc"
      }
    },
    {
      "cell_type": "code",
      "source": [
        "num1=int(input('Enter first number'))\n",
        "num2=int(input('Enter the second number'))\n",
        "\n",
        "sum=num1+num2\n",
        "\n",
        "print(sum)"
      ],
      "metadata": {
        "colab": {
          "base_uri": "https://localhost:8080/"
        },
        "id": "_75ZpMNM5rmu",
        "outputId": "1493136f-c192-4156-ab97-d309f4152fb4"
      },
      "execution_count": 35,
      "outputs": [
        {
          "output_type": "stream",
          "name": "stdout",
          "text": [
            "Enter first number2\n",
            "Enter the second number3\n",
            "5\n"
          ]
        }
      ]
    },
    {
      "cell_type": "markdown",
      "source": [
        "Write a Python program to check leap year."
      ],
      "metadata": {
        "id": "gigINXle60jQ"
      }
    },
    {
      "cell_type": "code",
      "source": [
        "year=int(input('Enter the year'))\n",
        "\n",
        "if((year%400==0) or (year%100!=0) and (year%4==0)):\n",
        "  print('It is a leap year')\n",
        "else:\n",
        "  print('It is not a leap year')"
      ],
      "metadata": {
        "colab": {
          "base_uri": "https://localhost:8080/"
        },
        "id": "UGKjJ0NT7FCt",
        "outputId": "3a04f49c-2566-4c76-db4c-5c7386ab1d50"
      },
      "execution_count": 37,
      "outputs": [
        {
          "output_type": "stream",
          "name": "stdout",
          "text": [
            "Enter the year2021\n",
            "It is not a leap year\n"
          ]
        }
      ]
    },
    {
      "cell_type": "markdown",
      "source": [
        "Write a Python program to check if a given number is a Fibonacci number or not."
      ],
      "metadata": {
        "id": "9ArvlYG98AUV"
      }
    },
    {
      "cell_type": "code",
      "source": [
        "numb=int(input('Enter the number'))\n",
        "\n",
        "fib=[0,1]\n",
        "\n",
        "while fib[-1]<=numb:\n",
        "  fib.append(fib[-1]+fib[-2])\n",
        "\n",
        "if numb in fib:\n",
        "  print('It is a fibonacci number')\n",
        "else:\n",
        "  print('It is not a fibonacci number')"
      ],
      "metadata": {
        "colab": {
          "base_uri": "https://localhost:8080/"
        },
        "id": "5JYbVtJz7_9t",
        "outputId": "1c0d29a3-f975-4e3f-a9ae-b36973360749"
      },
      "execution_count": 38,
      "outputs": [
        {
          "output_type": "stream",
          "name": "stdout",
          "text": [
            "Enter the number8\n",
            "It is a fibonacci number\n"
          ]
        }
      ]
    },
    {
      "cell_type": "markdown",
      "source": [
        "Python Program to Print the Fibonacci sequence. "
      ],
      "metadata": {
        "id": "J0locWQr-brn"
      }
    },
    {
      "cell_type": "code",
      "source": [
        "num=int(input('Enter the length'))\n",
        "fib=[0,1]\n",
        "\n",
        "if num==0 or num==1:\n",
        "  print(*fib)\n",
        "else:\n",
        "  while len(fib) < num:\n",
        "    fib.append(fib[-1]+fib[-2])\n",
        "  print(*fib)"
      ],
      "metadata": {
        "colab": {
          "base_uri": "https://localhost:8080/"
        },
        "id": "WEPJDwdz9jTl",
        "outputId": "b2d71685-460d-48ac-ddf6-151b457db372"
      },
      "execution_count": 42,
      "outputs": [
        {
          "output_type": "stream",
          "name": "stdout",
          "text": [
            "Enter the length5\n",
            "0 1 1 2 3\n"
          ]
        }
      ]
    },
    {
      "cell_type": "markdown",
      "source": [
        "Write a Python program to find the area of a circle."
      ],
      "metadata": {
        "id": "R5yiM83F-iK8"
      }
    },
    {
      "cell_type": "code",
      "source": [
        "r=float(input('Enter the radius of circle'))\n",
        "\n",
        "pi=3.14\n",
        "\n",
        "area=pi*(r*r)\n",
        "print(area)"
      ],
      "metadata": {
        "colab": {
          "base_uri": "https://localhost:8080/"
        },
        "id": "EjlzdtBB-eX0",
        "outputId": "917ac669-a1d3-4d61-dfa6-e722301110c8"
      },
      "execution_count": 43,
      "outputs": [
        {
          "output_type": "stream",
          "name": "stdout",
          "text": [
            "Enter the radius of circle4\n",
            "50.24\n"
          ]
        }
      ]
    },
    {
      "cell_type": "markdown",
      "source": [
        "Write a Python program to display the calendar."
      ],
      "metadata": {
        "id": "ZCNeT-AD-5Ts"
      }
    },
    {
      "cell_type": "code",
      "source": [
        "import calendar\n",
        "\n",
        "year=int(input('Enter the year: '))\n",
        "month=int(input('Enter the month: '))\n",
        "\n",
        "print(calendar.month(year,month))"
      ],
      "metadata": {
        "colab": {
          "base_uri": "https://localhost:8080/"
        },
        "id": "-hXm_dLS_UNj",
        "outputId": "90838a21-37e0-450e-a4ad-9863dc468812"
      },
      "execution_count": 46,
      "outputs": [
        {
          "output_type": "stream",
          "name": "stdout",
          "text": [
            "Enter the year: 2022\n",
            "Enter the month: 2\n",
            "   February 2022\n",
            "Mo Tu We Th Fr Sa Su\n",
            "    1  2  3  4  5  6\n",
            " 7  8  9 10 11 12 13\n",
            "14 15 16 17 18 19 20\n",
            "21 22 23 24 25 26 27\n",
            "28\n",
            "\n"
          ]
        }
      ]
    },
    {
      "cell_type": "markdown",
      "source": [
        "Write a Python program to print all prime numbers in an interval."
      ],
      "metadata": {
        "id": "q70fjqKU_sdY"
      }
    },
    {
      "cell_type": "code",
      "source": [
        "start=int(input('Enter the starting number: '))\n",
        "end=int(input('Enter the ending number: '))\n",
        "\n",
        "list=[]\n",
        "\n",
        "for i in range (start,end):\n",
        "  if i == 0 or i ==1:\n",
        "    continue\n",
        "  else:\n",
        "    for j in range(2, int(i/2)+1):\n",
        "      if i%j==0:\n",
        "        break\n",
        "    else:\n",
        "      list.append(i)\n",
        "\n",
        "print(*list)"
      ],
      "metadata": {
        "colab": {
          "base_uri": "https://localhost:8080/"
        },
        "id": "6_VkRLi1_20T",
        "outputId": "8317e3d9-cb4f-4cb9-fed3-2a6ca773e016"
      },
      "execution_count": 48,
      "outputs": [
        {
          "output_type": "stream",
          "name": "stdout",
          "text": [
            "Enter the starting number: 3\n",
            "Enter the ending number: 67\n",
            "3 5 7 11 13 17 19 23 29 31 37 41 43 47 53 59 61\n"
          ]
        }
      ]
    },
    {
      "cell_type": "markdown",
      "source": [
        "Write a Python Program to Find Vowels From a String."
      ],
      "metadata": {
        "id": "261c9iWRBJ5d"
      }
    },
    {
      "cell_type": "code",
      "source": [
        "sentence=input('Enter the sentence: ')\n",
        "list=[]\n",
        "for i in sentence:\n",
        "  if i in 'aeiou':\n",
        "    list.append(i)\n",
        "if len(list) > 0:\n",
        "  print(list)\n",
        "else:\n",
        "  print('No vowels found')"
      ],
      "metadata": {
        "colab": {
          "base_uri": "https://localhost:8080/"
        },
        "id": "JCk2EdKRAns8",
        "outputId": "1283487e-6dc4-42e5-de42-3f331502e072"
      },
      "execution_count": 49,
      "outputs": [
        {
          "output_type": "stream",
          "name": "stdout",
          "text": [
            "Enter the sentence: hello\n",
            "['e', 'o']\n"
          ]
        }
      ]
    },
    {
      "cell_type": "markdown",
      "source": [
        "Write a Python Program to Capitalize the First Letter of a String."
      ],
      "metadata": {
        "id": "wmsy9ORtB2xu"
      }
    },
    {
      "cell_type": "code",
      "source": [
        "sentence=input('Enter the sentence: ')\n",
        "\n",
        "print(sentence.title())"
      ],
      "metadata": {
        "colab": {
          "base_uri": "https://localhost:8080/"
        },
        "id": "HrTMBMa7B1k0",
        "outputId": "1cdf34ad-3068-404d-e10b-2675a42906f8"
      },
      "execution_count": 50,
      "outputs": [
        {
          "output_type": "stream",
          "name": "stdout",
          "text": [
            "Enter the sentence: hello\n",
            "Hello\n"
          ]
        }
      ]
    }
  ]
}